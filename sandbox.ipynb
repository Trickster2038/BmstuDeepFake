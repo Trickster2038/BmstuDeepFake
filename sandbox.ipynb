{
 "cells": [
  {
   "cell_type": "code",
   "execution_count": 2,
   "id": "9aabae99-4730-4d75-8fd6-da5b82386761",
   "metadata": {},
   "outputs": [],
   "source": [
    "import pandas as pd"
   ]
  },
  {
   "cell_type": "code",
   "execution_count": 10,
   "id": "9c1f2459-b702-4501-a0b1-cc64f5eb51fa",
   "metadata": {},
   "outputs": [
    {
     "data": {
      "text/html": [
       "<div>\n",
       "<style scoped>\n",
       "    .dataframe tbody tr th:only-of-type {\n",
       "        vertical-align: middle;\n",
       "    }\n",
       "\n",
       "    .dataframe tbody tr th {\n",
       "        vertical-align: top;\n",
       "    }\n",
       "\n",
       "    .dataframe thead th {\n",
       "        text-align: right;\n",
       "    }\n",
       "</style>\n",
       "<table border=\"1\" class=\"dataframe\">\n",
       "  <thead>\n",
       "    <tr style=\"text-align: right;\">\n",
       "      <th></th>\n",
       "      <th>col1</th>\n",
       "      <th>col2</th>\n",
       "      <th>col3</th>\n",
       "    </tr>\n",
       "  </thead>\n",
       "  <tbody>\n",
       "    <tr>\n",
       "      <th>0</th>\n",
       "      <td>1</td>\n",
       "      <td>3</td>\n",
       "      <td>[1, 2]</td>\n",
       "    </tr>\n",
       "    <tr>\n",
       "      <th>1</th>\n",
       "      <td>2</td>\n",
       "      <td>4</td>\n",
       "      <td>[1, 1]</td>\n",
       "    </tr>\n",
       "    <tr>\n",
       "      <th>2</th>\n",
       "      <td>1</td>\n",
       "      <td>3</td>\n",
       "      <td>[1, 2]</td>\n",
       "    </tr>\n",
       "    <tr>\n",
       "      <th>3</th>\n",
       "      <td>2</td>\n",
       "      <td>4</td>\n",
       "      <td>[1, 1]</td>\n",
       "    </tr>\n",
       "  </tbody>\n",
       "</table>\n",
       "</div>"
      ],
      "text/plain": [
       "   col1  col2    col3\n",
       "0     1     3  [1, 2]\n",
       "1     2     4  [1, 1]\n",
       "2     1     3  [1, 2]\n",
       "3     2     4  [1, 1]"
      ]
     },
     "execution_count": 10,
     "metadata": {},
     "output_type": "execute_result"
    }
   ],
   "source": [
    "d = {'col1': [1, 2], 'col2': [3, 4], 'col3': [[1,2], [1,1]]}\n",
    "df1 = pd.DataFrame(data=d)\n",
    "df2 = df.copy()\n",
    "df = pd.concat([df1, df2], ignore_index=True)\n",
    "df"
   ]
  },
  {
   "cell_type": "code",
   "execution_count": 6,
   "id": "024553e2-083b-4e06-b50a-d4b8b70c11a5",
   "metadata": {},
   "outputs": [
    {
     "data": {
      "text/plain": [
       "'4'"
      ]
     },
     "execution_count": 6,
     "metadata": {},
     "output_type": "execute_result"
    }
   ],
   "source": [
    "'12345'[0:4][-1]\n"
   ]
  },
  {
   "cell_type": "code",
   "execution_count": 7,
   "id": "7f4e84ff-434c-457e-9310-8fb4316caa70",
   "metadata": {},
   "outputs": [],
   "source": [
    "df = pd.DataFrame()"
   ]
  },
  {
   "cell_type": "code",
   "execution_count": 23,
   "id": "1f1d0afd-0d37-4322-8361-780f54d035ef",
   "metadata": {},
   "outputs": [
    {
     "data": {
      "text/html": [
       "<div>\n",
       "<style scoped>\n",
       "    .dataframe tbody tr th:only-of-type {\n",
       "        vertical-align: middle;\n",
       "    }\n",
       "\n",
       "    .dataframe tbody tr th {\n",
       "        vertical-align: top;\n",
       "    }\n",
       "\n",
       "    .dataframe thead th {\n",
       "        text-align: right;\n",
       "    }\n",
       "</style>\n",
       "<table border=\"1\" class=\"dataframe\">\n",
       "  <thead>\n",
       "    <tr style=\"text-align: right;\">\n",
       "      <th></th>\n",
       "      <th>Unnamed: 0</th>\n",
       "      <th>filename</th>\n",
       "      <th>fake</th>\n",
       "      <th>quality</th>\n",
       "      <th>pt_48_mouth_raw</th>\n",
       "      <th>pt_49_mouth_raw</th>\n",
       "      <th>pt_50_mouth_raw</th>\n",
       "      <th>pt_51_mouth_raw</th>\n",
       "      <th>pt_52_mouth_raw</th>\n",
       "      <th>pt_53_mouth_raw</th>\n",
       "      <th>...</th>\n",
       "      <th>pt_7_jaw_raw</th>\n",
       "      <th>pt_8_jaw_raw</th>\n",
       "      <th>pt_9_jaw_raw</th>\n",
       "      <th>pt_10_jaw_raw</th>\n",
       "      <th>pt_11_jaw_raw</th>\n",
       "      <th>pt_12_jaw_raw</th>\n",
       "      <th>pt_13_jaw_raw</th>\n",
       "      <th>pt_14_jaw_raw</th>\n",
       "      <th>pt_15_jaw_raw</th>\n",
       "      <th>pt_16_jaw_raw</th>\n",
       "    </tr>\n",
       "  </thead>\n",
       "  <tbody>\n",
       "    <tr>\n",
       "      <th>0</th>\n",
       "      <td>0</td>\n",
       "      <td>real_shulman_1080.mp4</td>\n",
       "      <td>False</td>\n",
       "      <td>1080</td>\n",
       "      <td>[130 130 129 129 129 129 128 129 129 130 131 1...</td>\n",
       "      <td>[131 131 132 132 134 134 134 134 134 134 134 1...</td>\n",
       "      <td>[132 132 132 132 132 132 132 132 132 132 134 1...</td>\n",
       "      <td>[134 134 134 135 136 137 137 137 137 136 136 1...</td>\n",
       "      <td>[134 136 137 138 136 135 134 132 131 131 132 1...</td>\n",
       "      <td>[132 130 130 129 129 129 129 127 127 128 129 1...</td>\n",
       "      <td>...</td>\n",
       "      <td>[ 40  42  44  45  50  74 109 122 123 123 123 1...</td>\n",
       "      <td>[120 118 118 118 117 117 117 117 117 117 117 1...</td>\n",
       "      <td>[111 110 109 109 108 107 107 107 108 108 109 1...</td>\n",
       "      <td>[102 101 100  98  96  95  92  89  87  86  82  ...</td>\n",
       "      <td>[86 85 85 84 82 82 81 80 80 80 79 79 79 77 75 ...</td>\n",
       "      <td>[73 72 71 71 71 69 69 67 67 67 66 66 66 65 64 ...</td>\n",
       "      <td>[68 68 67 67 66 66 64 64 63 63 61 61 61 60 59 ...</td>\n",
       "      <td>[63 63 63 63 63 63 63 63 63 61 60 60 59 58 58 ...</td>\n",
       "      <td>[59 59 58 58 58 58 58 58 57 57 57 57 56 54 54 ...</td>\n",
       "      <td>[61 57 53 50 47 44 40 37 33 31 29 26 25 22 19 ...</td>\n",
       "    </tr>\n",
       "    <tr>\n",
       "      <th>1</th>\n",
       "      <td>1</td>\n",
       "      <td>real_shulman_1080.mp4</td>\n",
       "      <td>False</td>\n",
       "      <td>1080</td>\n",
       "      <td>[132 134 136 136 135 134 132 132 132 131 131 1...</td>\n",
       "      <td>[134 134 135 135 135 135 135 135 135 135 134 1...</td>\n",
       "      <td>[135 135 135 135 134 134 134 132 132 132 132 1...</td>\n",
       "      <td>[134 134 134 135 136 137 137 137 137 137 136 1...</td>\n",
       "      <td>[134 134 135 137 137 137 135 134 134 131 131 1...</td>\n",
       "      <td>[135 135 134 132 131 130 129 128 127 125 124 1...</td>\n",
       "      <td>...</td>\n",
       "      <td>[ 41  43  43  44  45  46  47  52  88 118 123 1...</td>\n",
       "      <td>[122 122 121 121 121 120 120 120 120 120 118 1...</td>\n",
       "      <td>[113 111 111 110 110 110 110 111 113 114 116 1...</td>\n",
       "      <td>[100  98  96  95  93  92  89  88  85  81  78  ...</td>\n",
       "      <td>[85 85 84 82 81 81 81 81 80 80 79 78 77 75 73 ...</td>\n",
       "      <td>[74 72 71 71 70 70 70 68 68 68 67 67 66 66 65 ...</td>\n",
       "      <td>[70 70 70 68 67 67 65 65 64 64 63 61 61 60 59 ...</td>\n",
       "      <td>[61 61 61 61 61 61 61 61 61 61 61 60 60 59 58 ...</td>\n",
       "      <td>[61 61 61 61 60 57 57 56 54 53 53 53 52 52 52 ...</td>\n",
       "      <td>[61 59 54 51 47 43 40 38 33 29 26 26 28 26 28 ...</td>\n",
       "    </tr>\n",
       "  </tbody>\n",
       "</table>\n",
       "<p>2 rows × 71 columns</p>\n",
       "</div>"
      ],
      "text/plain": [
       "   Unnamed: 0               filename   fake  quality  \\\n",
       "0           0  real_shulman_1080.mp4  False     1080   \n",
       "1           1  real_shulman_1080.mp4  False     1080   \n",
       "\n",
       "                                     pt_48_mouth_raw  \\\n",
       "0  [130 130 129 129 129 129 128 129 129 130 131 1...   \n",
       "1  [132 134 136 136 135 134 132 132 132 131 131 1...   \n",
       "\n",
       "                                     pt_49_mouth_raw  \\\n",
       "0  [131 131 132 132 134 134 134 134 134 134 134 1...   \n",
       "1  [134 134 135 135 135 135 135 135 135 135 134 1...   \n",
       "\n",
       "                                     pt_50_mouth_raw  \\\n",
       "0  [132 132 132 132 132 132 132 132 132 132 134 1...   \n",
       "1  [135 135 135 135 134 134 134 132 132 132 132 1...   \n",
       "\n",
       "                                     pt_51_mouth_raw  \\\n",
       "0  [134 134 134 135 136 137 137 137 137 136 136 1...   \n",
       "1  [134 134 134 135 136 137 137 137 137 137 136 1...   \n",
       "\n",
       "                                     pt_52_mouth_raw  \\\n",
       "0  [134 136 137 138 136 135 134 132 131 131 132 1...   \n",
       "1  [134 134 135 137 137 137 135 134 134 131 131 1...   \n",
       "\n",
       "                                     pt_53_mouth_raw  ...  \\\n",
       "0  [132 130 130 129 129 129 129 127 127 128 129 1...  ...   \n",
       "1  [135 135 134 132 131 130 129 128 127 125 124 1...  ...   \n",
       "\n",
       "                                        pt_7_jaw_raw  \\\n",
       "0  [ 40  42  44  45  50  74 109 122 123 123 123 1...   \n",
       "1  [ 41  43  43  44  45  46  47  52  88 118 123 1...   \n",
       "\n",
       "                                        pt_8_jaw_raw  \\\n",
       "0  [120 118 118 118 117 117 117 117 117 117 117 1...   \n",
       "1  [122 122 121 121 121 120 120 120 120 120 118 1...   \n",
       "\n",
       "                                        pt_9_jaw_raw  \\\n",
       "0  [111 110 109 109 108 107 107 107 108 108 109 1...   \n",
       "1  [113 111 111 110 110 110 110 111 113 114 116 1...   \n",
       "\n",
       "                                       pt_10_jaw_raw  \\\n",
       "0  [102 101 100  98  96  95  92  89  87  86  82  ...   \n",
       "1  [100  98  96  95  93  92  89  88  85  81  78  ...   \n",
       "\n",
       "                                       pt_11_jaw_raw  \\\n",
       "0  [86 85 85 84 82 82 81 80 80 80 79 79 79 77 75 ...   \n",
       "1  [85 85 84 82 81 81 81 81 80 80 79 78 77 75 73 ...   \n",
       "\n",
       "                                       pt_12_jaw_raw  \\\n",
       "0  [73 72 71 71 71 69 69 67 67 67 66 66 66 65 64 ...   \n",
       "1  [74 72 71 71 70 70 70 68 68 68 67 67 66 66 65 ...   \n",
       "\n",
       "                                       pt_13_jaw_raw  \\\n",
       "0  [68 68 67 67 66 66 64 64 63 63 61 61 61 60 59 ...   \n",
       "1  [70 70 70 68 67 67 65 65 64 64 63 61 61 60 59 ...   \n",
       "\n",
       "                                       pt_14_jaw_raw  \\\n",
       "0  [63 63 63 63 63 63 63 63 63 61 60 60 59 58 58 ...   \n",
       "1  [61 61 61 61 61 61 61 61 61 61 61 60 60 59 58 ...   \n",
       "\n",
       "                                       pt_15_jaw_raw  \\\n",
       "0  [59 59 58 58 58 58 58 58 57 57 57 57 56 54 54 ...   \n",
       "1  [61 61 61 61 60 57 57 56 54 53 53 53 52 52 52 ...   \n",
       "\n",
       "                                       pt_16_jaw_raw  \n",
       "0  [61 57 53 50 47 44 40 37 33 31 29 26 25 22 19 ...  \n",
       "1  [61 59 54 51 47 43 40 38 33 29 26 26 28 26 28 ...  \n",
       "\n",
       "[2 rows x 71 columns]"
      ]
     },
     "execution_count": 23,
     "metadata": {},
     "output_type": "execute_result"
    }
   ],
   "source": [
    "df = pd.read_csv(\"dataframe.csv\")\n",
    "df"
   ]
  },
  {
   "cell_type": "code",
   "execution_count": 13,
   "id": "f89b78c7-036d-49a7-b96c-96d18e3adaa2",
   "metadata": {},
   "outputs": [
    {
     "name": "stdout",
     "output_type": "stream",
     "text": [
      "0\n",
      "1\n",
      "2\n",
      "3\n",
      "4\n"
     ]
    }
   ],
   "source": [
    "for x in range (0,5):\n",
    "    print(x)"
   ]
  },
  {
   "cell_type": "code",
   "execution_count": 19,
   "id": "2ddda929-a7c8-4acd-b6a6-a62b33c98ed6",
   "metadata": {},
   "outputs": [
    {
     "name": "stdout",
     "output_type": "stream",
     "text": [
      "48\n",
      "49\n",
      "50\n",
      "51\n",
      "52\n",
      "53\n",
      "54\n",
      "55\n",
      "56\n",
      "57\n",
      "58\n",
      "59\n",
      "60\n",
      "61\n",
      "62\n",
      "63\n",
      "64\n",
      "65\n",
      "66\n",
      "67\n"
     ]
    }
   ],
   "source": [
    "import collections\n",
    "FACIAL_LANDMARKS_IDXS = collections.OrderedDict([\n",
    "    (\"mouth\", (48, 68)),\n",
    "    (\"right_eyebrow\", (17, 22)),\n",
    "    (\"left_eyebrow\", (22, 27)),\n",
    "    (\"right_eye\", (36, 42)),\n",
    "    (\"left_eye\", (42, 48)),\n",
    "    (\"nose\", (27, 35)),\n",
    "    (\"jaw\", (0, 17))\n",
    "])\n",
    "for x in range(FACIAL_LANDMARKS_IDXS['mouth'][0], FACIAL_LANDMARKS_IDXS['mouth'][1]):\n",
    "    print(x)"
   ]
  },
  {
   "cell_type": "code",
   "execution_count": 24,
   "id": "f5c16995-4d11-43d7-90e1-e314038df5d0",
   "metadata": {},
   "outputs": [
    {
     "ename": "AttributeError",
     "evalue": "'list' object has no attribute 'ravel'",
     "output_type": "error",
     "traceback": [
      "\u001b[1;31m---------------------------------------------------------------------------\u001b[0m",
      "\u001b[1;31mAttributeError\u001b[0m                            Traceback (most recent call last)",
      "Cell \u001b[1;32mIn[24], line 1\u001b[0m\n\u001b[1;32m----> 1\u001b[0m \u001b[43m[\u001b[49m\u001b[43m[\u001b[49m\u001b[38;5;241;43m1\u001b[39;49m\u001b[43m,\u001b[49m\u001b[38;5;241;43m2\u001b[39;49m\u001b[43m,\u001b[49m\u001b[38;5;241;43m3\u001b[39;49m\u001b[43m]\u001b[49m\u001b[43m,\u001b[49m\u001b[38;5;241;43m1\u001b[39;49m\u001b[43m]\u001b[49m\u001b[38;5;241;43m.\u001b[39;49m\u001b[43mravel\u001b[49m()\n",
      "\u001b[1;31mAttributeError\u001b[0m: 'list' object has no attribute 'ravel'"
     ]
    }
   ],
   "source": [
    "[[1,2,3],1].ravel()"
   ]
  },
  {
   "cell_type": "code",
   "execution_count": null,
   "id": "cb156083-98af-44e4-9db5-775a8fb224a8",
   "metadata": {},
   "outputs": [],
   "source": []
  }
 ],
 "metadata": {
  "kernelspec": {
   "display_name": "Python 3 (ipykernel)",
   "language": "python",
   "name": "python3"
  },
  "language_info": {
   "codemirror_mode": {
    "name": "ipython",
    "version": 3
   },
   "file_extension": ".py",
   "mimetype": "text/x-python",
   "name": "python",
   "nbconvert_exporter": "python",
   "pygments_lexer": "ipython3",
   "version": "3.9.0"
  }
 },
 "nbformat": 4,
 "nbformat_minor": 5
}
